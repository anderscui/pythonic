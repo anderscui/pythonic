{
 "cells": [
  {
   "cell_type": "markdown",
   "metadata": {},
   "source": [
    "## Python's Method Resolution Order\n",
    "\n",
    "Python's Method Resolution Order is based on C3, the MRO built for the Dylan.\n",
    "\n",
    "In the case without multiple inheritance, it's simple, otherwise consider the **linearization**."
   ]
  },
  {
   "cell_type": "code",
   "execution_count": 1,
   "metadata": {},
   "outputs": [
    {
     "name": "stdout",
     "output_type": "stream",
     "text": [
      "Base2\n"
     ]
    }
   ],
   "source": [
    "class CommonBase:\n",
    "    def method(self):\n",
    "        print('CommonBase')\n",
    "        \n",
    "class Base1(CommonBase):\n",
    "    pass\n",
    "\n",
    "class Base2(CommonBase):\n",
    "    def method(self):\n",
    "        print('Base2')\n",
    "        \n",
    "class MyClass(Base1, Base2):\n",
    "    pass\n",
    "\n",
    "my = MyClass()\n",
    "my.method()"
   ]
  },
  {
   "cell_type": "markdown",
   "metadata": {},
   "source": [
    "## super pitfalls\n",
    "\n",
    "In py, the base clases are not implicitly called in `__init__()`."
   ]
  },
  {
   "cell_type": "code",
   "execution_count": 4,
   "metadata": {
    "collapsed": true
   },
   "outputs": [],
   "source": [
    "class A:\n",
    "    def __init__(self):\n",
    "        print('A', end=' ')\n",
    "        super().__init__()\n",
    "        \n",
    "class B:\n",
    "    def __init__(self):\n",
    "        print('B', end=' ')\n",
    "        super().__init__() \n",
    "        \n",
    "class C(A, B):\n",
    "    def __init__(self):\n",
    "        print('C', end=' ')\n",
    "        A.__init__(self)\n",
    "        B.__init__(self)"
   ]
  },
  {
   "cell_type": "code",
   "execution_count": 5,
   "metadata": {},
   "outputs": [
    {
     "name": "stdout",
     "output_type": "stream",
     "text": [
      "MRO: ['C', 'A', 'B', 'object']\n"
     ]
    }
   ],
   "source": [
    "print('MRO:', [x.__name__ for x in C.__mro__])"
   ]
  },
  {
   "cell_type": "code",
   "execution_count": 6,
   "metadata": {},
   "outputs": [
    {
     "name": "stdout",
     "output_type": "stream",
     "text": [
      "C A B B "
     ]
    },
    {
     "data": {
      "text/plain": [
       "<__main__.C at 0x111afa9b0>"
      ]
     },
     "execution_count": 6,
     "metadata": {},
     "output_type": "execute_result"
    }
   ],
   "source": [
    "C()"
   ]
  },
  {
   "cell_type": "code",
   "execution_count": null,
   "metadata": {
    "collapsed": true
   },
   "outputs": [],
   "source": []
  }
 ],
 "metadata": {
  "kernelspec": {
   "display_name": "Python 3",
   "language": "python",
   "name": "python3"
  },
  "language_info": {
   "codemirror_mode": {
    "name": "ipython",
    "version": 3
   },
   "file_extension": ".py",
   "mimetype": "text/x-python",
   "name": "python",
   "nbconvert_exporter": "python",
   "pygments_lexer": "ipython3",
   "version": "3.6.3"
  }
 },
 "nbformat": 4,
 "nbformat_minor": 2
}
