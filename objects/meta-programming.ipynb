{
 "cells": [
  {
   "cell_type": "markdown",
   "metadata": {},
   "source": [
    "## Metaprogramming\n",
    "\n",
    "Metaprogramming is a technique of writing computer programs that can treat themselves as data, so you can introspect, generate, and/or modify itself while running.\n",
    "\n",
    "Two approaches:\n",
    "\n",
    "* decorators, special methods, metaclasses\n",
    "* extending?\n",
    "\n"
   ]
  },
  {
   "cell_type": "markdown",
   "metadata": {},
   "source": [
    "## Class decorators\n",
    "\n",
    "Class decorators can be used as alternatives as mixins."
   ]
  },
  {
   "cell_type": "code",
   "execution_count": 3,
   "metadata": {
    "collapsed": true
   },
   "outputs": [],
   "source": [
    "def short_repr(cls):\n",
    "    cls.__repr__ = lambda self: super(cls, self).__repr__()[:10]\n",
    "    return cls\n",
    "    \n",
    "@short_repr\n",
    "class ClassWithRelativelyLongName:\n",
    "    pass"
   ]
  },
  {
   "cell_type": "code",
   "execution_count": 4,
   "metadata": {},
   "outputs": [
    {
     "data": {
      "text/plain": [
       "<__main__."
      ]
     },
     "execution_count": 4,
     "metadata": {},
     "output_type": "execute_result"
    }
   ],
   "source": [
    "ClassWithRelativelyLongName()"
   ]
  },
  {
   "cell_type": "markdown",
   "metadata": {},
   "source": [
    "## Using the __new__() to override instance creation process\n",
    "\n",
    "`__new__` can return values of other types."
   ]
  },
  {
   "cell_type": "code",
   "execution_count": 5,
   "metadata": {
    "collapsed": true
   },
   "outputs": [],
   "source": [
    "# __new__ is a static method without 'staticmethod'\n",
    "class InstanceCountingClass:\n",
    "    instance_created = 0\n",
    "    def __new__(cls, *args, **kwargs):\n",
    "        print('__new__() called with', cls, args, kwargs)\n",
    "        instance = super().__new__(cls)\n",
    "        instance._id = cls.instance_created\n",
    "        cls.instance_created += 1\n",
    "        return instance\n",
    "    \n",
    "    def __init__(self, attribute):\n",
    "        print('__init__() called with:', self, attribute)\n",
    "        self.attribute = attribute\n"
   ]
  },
  {
   "cell_type": "code",
   "execution_count": 6,
   "metadata": {},
   "outputs": [
    {
     "name": "stdout",
     "output_type": "stream",
     "text": [
      "__new__() called with <class '__main__.InstanceCountingClass'> ('abc',) {}\n",
      "__init__() called with: <__main__.InstanceCountingClass object at 0x109a5d5c0> abc\n"
     ]
    }
   ],
   "source": [
    "inst1 = InstanceCountingClass('abc')"
   ]
  },
  {
   "cell_type": "code",
   "execution_count": 7,
   "metadata": {},
   "outputs": [
    {
     "name": "stdout",
     "output_type": "stream",
     "text": [
      "__new__() called with <class '__main__.InstanceCountingClass'> ('xyz',) {}\n",
      "__init__() called with: <__main__.InstanceCountingClass object at 0x109a5d748> xyz\n"
     ]
    }
   ],
   "source": [
    "inst2 = InstanceCountingClass('xyz')"
   ]
  },
  {
   "cell_type": "code",
   "execution_count": 8,
   "metadata": {},
   "outputs": [
    {
     "data": {
      "text/plain": [
       "(0, 1)"
      ]
     },
     "execution_count": 8,
     "metadata": {},
     "output_type": "execute_result"
    }
   ],
   "source": [
    "inst1._id, inst2._id"
   ]
  },
  {
   "cell_type": "code",
   "execution_count": null,
   "metadata": {
    "collapsed": true
   },
   "outputs": [],
   "source": []
  }
 ],
 "metadata": {
  "kernelspec": {
   "display_name": "Python 3",
   "language": "python",
   "name": "python3"
  },
  "language_info": {
   "codemirror_mode": {
    "name": "ipython",
    "version": 3
   },
   "file_extension": ".py",
   "mimetype": "text/x-python",
   "name": "python",
   "nbconvert_exporter": "python",
   "pygments_lexer": "ipython3",
   "version": "3.6.3"
  }
 },
 "nbformat": 4,
 "nbformat_minor": 2
}
