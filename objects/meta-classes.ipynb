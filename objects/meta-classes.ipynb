{
 "cells": [
  {
   "cell_type": "markdown",
   "metadata": {},
   "source": [
    "## Metaclasses\n",
    "\n",
    "Metaclass is a Python feature that is considered by many as one of the most difficult thing in this language and thus avoided by a great number of developers.\n",
    "\n",
    "Metaclass is a type that defines other types. The most important thing to know is that **classes that define object instances are objects too. So they have an associated class.** The basic type of every class def is simply the `type` class.\n",
    "\n",
    "### The general syntax\n",
    "\n",
    "The call to the built-in `type` class can be used as a dynamic equivalent of the class statement.\n",
    "\n",
    "Every class created with the class statement implicitly uses `type` as its metaclass."
   ]
  },
  {
   "cell_type": "code",
   "execution_count": 4,
   "metadata": {
    "collapsed": true
   },
   "outputs": [],
   "source": [
    "def add(self, a, b):\n",
    "    return a + b\n",
    "\n",
    "klass = type('MyClass', (object,), {'add': add})\n",
    "\n",
    "instance = klass()"
   ]
  },
  {
   "cell_type": "code",
   "execution_count": 5,
   "metadata": {},
   "outputs": [
    {
     "data": {
      "text/plain": [
       "3"
      ]
     },
     "execution_count": 5,
     "metadata": {},
     "output_type": "execute_result"
    }
   ],
   "source": [
    "instance.add(1, 2)"
   ]
  },
  {
   "cell_type": "code",
   "execution_count": 12,
   "metadata": {
    "collapsed": true
   },
   "outputs": [],
   "source": [
    "class RevealingMeta(type):\n",
    "    def __new__(mcs, name, bases, namespace, **kwargs):\n",
    "        print(mcs, 'meta__new__ called')\n",
    "        return super().__new__(mcs, name, bases, namespace)\n",
    "    \n",
    "    @classmethod\n",
    "    def __prepare__(mcs, name, bases, **kwargs):\n",
    "        print(mcs, 'meta__prepare__ called')\n",
    "        return super().__prepare__(name, bases, **kwargs)\n",
    "    \n",
    "    def __init__(cls, name, bases, namespace, **kwargs):\n",
    "        print(cls, 'meta__init__ called')\n",
    "        super().__init__(name, bases, namespace)\n",
    "        \n",
    "    def __call__(cls, *args, **kwargs):\n",
    "        print(cls, 'meta__call__ called')\n",
    "        return super().__call__(*args, **kwargs)"
   ]
  },
  {
   "cell_type": "code",
   "execution_count": 13,
   "metadata": {},
   "outputs": [
    {
     "name": "stdout",
     "output_type": "stream",
     "text": [
      "<class '__main__.RevealingMeta'> meta__prepare__ called\n",
      "<class '__main__.RevealingMeta'> meta__new__ called\n",
      "<class '__main__.RevealingClass'> meta__init__ called\n"
     ]
    }
   ],
   "source": [
    "class RevealingClass(metaclass=RevealingMeta):\n",
    "    def __new__(cls):\n",
    "        print(cls, '__new__ called')\n",
    "        return super().__new__(cls)\n",
    "    \n",
    "    def __init__(self):\n",
    "        print(self, '__init__ called')\n",
    "        super().__init__()\n",
    "        "
   ]
  },
  {
   "cell_type": "code",
   "execution_count": 14,
   "metadata": {},
   "outputs": [
    {
     "name": "stdout",
     "output_type": "stream",
     "text": [
      "<class '__main__.RevealingClass'> meta__call__ called\n",
      "<class '__main__.RevealingClass'> __new__ called\n",
      "<__main__.RevealingClass object at 0x1095f00b8> __init__ called\n"
     ]
    }
   ],
   "source": [
    "instance = RevealingClass()"
   ]
  },
  {
   "cell_type": "code",
   "execution_count": null,
   "metadata": {
    "collapsed": true
   },
   "outputs": [],
   "source": []
  }
 ],
 "metadata": {
  "kernelspec": {
   "display_name": "Python 3",
   "language": "python",
   "name": "python3"
  },
  "language_info": {
   "codemirror_mode": {
    "name": "ipython",
    "version": 3
   },
   "file_extension": ".py",
   "mimetype": "text/x-python",
   "name": "python",
   "nbconvert_exporter": "python",
   "pygments_lexer": "ipython3",
   "version": "3.6.3"
  }
 },
 "nbformat": 4,
 "nbformat_minor": 2
}
