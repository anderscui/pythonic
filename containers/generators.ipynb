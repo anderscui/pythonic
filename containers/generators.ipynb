{
 "cells": [
  {
   "cell_type": "markdown",
   "metadata": {},
   "source": [
    "## Generators\n",
    "\n",
    "Generators provide an elegant way to write simple and efficient code for funcs that return a seq of elements."
   ]
  },
  {
   "cell_type": "code",
   "execution_count": 3,
   "metadata": {},
   "outputs": [
    {
     "data": {
      "text/plain": [
       "generator"
      ]
     },
     "execution_count": 3,
     "metadata": {},
     "output_type": "execute_result"
    }
   ],
   "source": [
    "# an infinite seq\n",
    "def fibonacci():\n",
    "    a, b = 0, 1\n",
    "    while True:\n",
    "        yield b\n",
    "        a, b = b, a+b\n",
    "\n",
    "fib = fibonacci()\n",
    "type(fib)"
   ]
  },
  {
   "cell_type": "code",
   "execution_count": 4,
   "metadata": {},
   "outputs": [
    {
     "name": "stdout",
     "output_type": "stream",
     "text": [
      "1\n",
      "1\n",
      "2\n"
     ]
    }
   ],
   "source": [
    "print(next(fib))\n",
    "print(next(fib))\n",
    "print(next(fib))"
   ]
  },
  {
   "cell_type": "code",
   "execution_count": 5,
   "metadata": {},
   "outputs": [
    {
     "data": {
      "text/plain": [
       "[3, 5, 8, 13, 21, 34, 55, 89, 144, 233]"
      ]
     },
     "execution_count": 5,
     "metadata": {},
     "output_type": "execute_result"
    }
   ],
   "source": [
    "[next(fib) for _ in range(10)]"
   ]
  },
  {
   "cell_type": "markdown",
   "metadata": {},
   "source": [
    "### tokenize"
   ]
  },
  {
   "cell_type": "code",
   "execution_count": 9,
   "metadata": {},
   "outputs": [
    {
     "name": "stdout",
     "output_type": "stream",
     "text": [
      "TokenInfo(type=57 (COMMENT), string='# coding=utf-8', start=(1, 0), end=(1, 14), line='# coding=utf-8\\n')\n",
      "TokenInfo(type=58 (NL), string='\\n', start=(1, 14), end=(1, 15), line='# coding=utf-8\\n')\n",
      "TokenInfo(type=58 (NL), string='\\n', start=(2, 0), end=(2, 1), line='\\n')\n",
      "TokenInfo(type=58 (NL), string='\\n', start=(3, 0), end=(3, 1), line='\\n')\n",
      "TokenInfo(type=1 (NAME), string='def', start=(4, 0), end=(4, 3), line='def fibonacci():\\n')\n",
      "TokenInfo(type=1 (NAME), string='fibonacci', start=(4, 4), end=(4, 13), line='def fibonacci():\\n')\n",
      "TokenInfo(type=53 (OP), string='(', start=(4, 13), end=(4, 14), line='def fibonacci():\\n')\n",
      "TokenInfo(type=53 (OP), string=')', start=(4, 14), end=(4, 15), line='def fibonacci():\\n')\n",
      "TokenInfo(type=53 (OP), string=':', start=(4, 15), end=(4, 16), line='def fibonacci():\\n')\n",
      "TokenInfo(type=4 (NEWLINE), string='\\n', start=(4, 16), end=(4, 17), line='def fibonacci():\\n')\n"
     ]
    }
   ],
   "source": [
    "import tokenize\n",
    "\n",
    "reader = open('fib.py').readline\n",
    "tokens = tokenize.generate_tokens(reader)\n",
    "\n",
    "for i, token in enumerate(tokens):\n",
    "    if i < 10:\n",
    "        print(token)"
   ]
  },
  {
   "cell_type": "markdown",
   "metadata": {},
   "source": [
    "### generator object\n",
    "\n",
    "Another important feature regarding `generators` is the ability to interact with the code called with the `next` function. \n",
    "\n",
    "**yield** becomes an exp, and a value can be passed along with a new method called `send`."
   ]
  },
  {
   "cell_type": "code",
   "execution_count": 10,
   "metadata": {
    "collapsed": true
   },
   "outputs": [],
   "source": [
    "def psychologist():\n",
    "    print('tell me your problems')\n",
    "    \n",
    "    while True:\n",
    "        answer = (yield)\n",
    "        if answer is not None:\n",
    "            if answer.endswith('?'):\n",
    "                print('do not ask yourself too much questions')\n",
    "            elif 'good' in answer:\n",
    "                print('ahh that is good, go on')\n",
    "            elif 'bad' in answer:\n",
    "                print('do not be so negative')"
   ]
  },
  {
   "cell_type": "code",
   "execution_count": 14,
   "metadata": {},
   "outputs": [
    {
     "data": {
      "text/plain": [
       "<generator object psychologist at 0x10c8b26d0>"
      ]
     },
     "execution_count": 14,
     "metadata": {},
     "output_type": "execute_result"
    }
   ],
   "source": [
    "free = psychologist()\n",
    "free"
   ]
  },
  {
   "cell_type": "code",
   "execution_count": 19,
   "metadata": {},
   "outputs": [
    {
     "name": "stdout",
     "output_type": "stream",
     "text": [
      "tell me your problems\n"
     ]
    }
   ],
   "source": [
    "free = psychologist()\n",
    "next(free)"
   ]
  },
  {
   "cell_type": "code",
   "execution_count": 20,
   "metadata": {},
   "outputs": [
    {
     "name": "stdout",
     "output_type": "stream",
     "text": [
      "ahh that is good, go on\n"
     ]
    }
   ],
   "source": [
    "free.send('I feel good')"
   ]
  },
  {
   "cell_type": "code",
   "execution_count": 21,
   "metadata": {},
   "outputs": [
    {
     "name": "stdout",
     "output_type": "stream",
     "text": [
      "do not ask yourself too much questions\n"
     ]
    }
   ],
   "source": [
    "free.send('what is your name?')"
   ]
  },
  {
   "cell_type": "code",
   "execution_count": 22,
   "metadata": {},
   "outputs": [
    {
     "name": "stdout",
     "output_type": "stream",
     "text": [
      "do not be so negative\n"
     ]
    }
   ],
   "source": [
    "free.send('so bad...')"
   ]
  },
  {
   "cell_type": "markdown",
   "metadata": {},
   "source": [
    "Here `send` acts like `next`, but makes `yield` return the value passed to it inside of the func def.\n",
    "\n",
    "### coroutines\n",
    "\n",
    "Generators are the basis of other concepts in py: coroutines and asynchronous concurrency."
   ]
  },
  {
   "cell_type": "code",
   "execution_count": null,
   "metadata": {
    "collapsed": true
   },
   "outputs": [],
   "source": []
  }
 ],
 "metadata": {
  "kernelspec": {
   "display_name": "Python 3",
   "language": "python",
   "name": "python3"
  },
  "language_info": {
   "codemirror_mode": {
    "name": "ipython",
    "version": 3
   },
   "file_extension": ".py",
   "mimetype": "text/x-python",
   "name": "python",
   "nbconvert_exporter": "python",
   "pygments_lexer": "ipython3",
   "version": "3.6.3"
  }
 },
 "nbformat": 4,
 "nbformat_minor": 2
}
