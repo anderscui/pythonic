{
 "cells": [
  {
   "cell_type": "markdown",
   "metadata": {},
   "source": [
    "## Lists and tuples\n",
    "\n",
    "The two most basic collection types in py are **list** and **tuple**, they both represent seq of objects.\n",
    "\n",
    "Tuples are recommended datatype for structures where the position of the element is info by itself, e.g. (x, y) coordinates. Tuples are **immutable** and thus **hashable**.\n",
    "\n",
    "### Implementation details\n",
    "\n",
    "In CPython, lists are implemented as **variable length arrays**.\n",
    "\n",
    "In detail, lists in Python is a **contiguous array of references to other objects**. The pointer to this array and the length is stored in a lists head structure. This means that every time an item is added or removed, the array of references needs to be resized (reallocated).\n",
    "\n",
    "### List comprehensions\n",
    "\n",
    "The C-style for loop might make things slower for py. Below are the common use cases of **list comp**."
   ]
  },
  {
   "cell_type": "code",
   "execution_count": 2,
   "metadata": {},
   "outputs": [
    {
     "data": {
      "text/plain": [
       "[0, 2, 4, 6, 8]"
      ]
     },
     "execution_count": 2,
     "metadata": {},
     "output_type": "execute_result"
    }
   ],
   "source": [
    "# basic usage\n",
    "[i for i in range(10) if i % 2 == 0]"
   ]
  },
  {
   "cell_type": "code",
   "execution_count": 3,
   "metadata": {},
   "outputs": [
    {
     "name": "stdout",
     "output_type": "stream",
     "text": [
      "0 one\n",
      "1 two\n",
      "2 three\n"
     ]
    }
   ],
   "source": [
    "# enumerate\n",
    "list1 = ['one', 'two', 'three']\n",
    "for i, elem in enumerate(list1):\n",
    "    print(i, elem)"
   ]
  },
  {
   "cell_type": "code",
   "execution_count": 4,
   "metadata": {},
   "outputs": [
    {
     "name": "stdout",
     "output_type": "stream",
     "text": [
      "(1, 4)\n",
      "(2, 5)\n",
      "(3, 6)\n"
     ]
    }
   ],
   "source": [
    "# zip\n",
    "for item in zip([1, 2, 3], [4, 5, 6]):\n",
    "    print(item)"
   ]
  },
  {
   "cell_type": "code",
   "execution_count": 5,
   "metadata": {},
   "outputs": [
    {
     "name": "stdout",
     "output_type": "stream",
     "text": [
      "(1, 2, 3)\n",
      "(4, 5, 6)\n"
     ]
    }
   ],
   "source": [
    "# the results of zip() can be reversed by another zip() call\n",
    "for item in zip(*zip([1, 2, 3], [4, 5, 6])):\n",
    "    print(item)"
   ]
  },
  {
   "cell_type": "code",
   "execution_count": 6,
   "metadata": {},
   "outputs": [
    {
     "name": "stdout",
     "output_type": "stream",
     "text": [
      "h e ['l', 'l', 'o']\n"
     ]
    }
   ],
   "source": [
    "# sequence unpacking\n",
    "first, second, *rest = 'hello'\n",
    "print(first, second, rest)"
   ]
  },
  {
   "cell_type": "code",
   "execution_count": 8,
   "metadata": {},
   "outputs": [
    {
     "name": "stdout",
     "output_type": "stream",
     "text": [
      "h ['e', 'l', 'l'] o\n"
     ]
    }
   ],
   "source": [
    "begin, *middle, end = 'hello'\n",
    "print(begin, middle, end)"
   ]
  },
  {
   "cell_type": "code",
   "execution_count": 11,
   "metadata": {},
   "outputs": [
    {
     "name": "stdout",
     "output_type": "stream",
     "text": [
      "h [] e\n"
     ]
    }
   ],
   "source": [
    "begin, *middle, end = 'he'\n",
    "print(begin, middle, end)"
   ]
  },
  {
   "cell_type": "code",
   "execution_count": 13,
   "metadata": {},
   "outputs": [
    {
     "name": "stdout",
     "output_type": "stream",
     "text": [
      "1 2 3\n"
     ]
    }
   ],
   "source": [
    "a, (b, c) = 1, [2, 3]\n",
    "print(a, b, c)"
   ]
  },
  {
   "cell_type": "markdown",
   "metadata": {},
   "source": [
    "## Dictionaries\n",
    "\n",
    "Dictionaries are one the most versatile data structures in py.\n",
    "\n",
    "### Impl details\n",
    "CPython uses both tables with pseudo-random probing as an underlying data structure for dicts. Only objects that are **hashable** can be used as a dict key.\n",
    "\n",
    "An object is hashable if it has a hash value that never changes during its lifetime and can be compared to different objects.\n",
    "\n",
    "### Other dicts\n",
    "\n",
    "* OrderedDict"
   ]
  },
  {
   "cell_type": "code",
   "execution_count": 14,
   "metadata": {},
   "outputs": [
    {
     "data": {
      "text/plain": [
       "{'a': 65, 'b': 66}"
      ]
     },
     "execution_count": 14,
     "metadata": {},
     "output_type": "execute_result"
    }
   ],
   "source": [
    "# literal\n",
    "{\n",
    "    'a': 65,\n",
    "    'b': 66\n",
    "}"
   ]
  },
  {
   "cell_type": "code",
   "execution_count": 15,
   "metadata": {},
   "outputs": [
    {
     "data": {
      "text/plain": [
       "{'h': 104, 'e': 101, 'l': 108, 'o': 111}"
      ]
     },
     "execution_count": 15,
     "metadata": {},
     "output_type": "execute_result"
    }
   ],
   "source": [
    "# comprehension\n",
    "{c: ord(c) for c in 'hello'}"
   ]
  },
  {
   "cell_type": "code",
   "execution_count": 16,
   "metadata": {},
   "outputs": [
    {
     "data": {
      "text/plain": [
       "dict_items([('foo', 'bar'), ('fizz', 'bazz'), ('spam', 'eggs')])"
      ]
     },
     "execution_count": 16,
     "metadata": {},
     "output_type": "execute_result"
    }
   ],
   "source": [
    "# keys, values and itms are now view objects\n",
    "words = {'foo': 'bar', 'fizz': 'bazz'}\n",
    "items = words.items()\n",
    "words['spam'] = 'eggs'\n",
    "items"
   ]
  },
  {
   "cell_type": "markdown",
   "metadata": {},
   "source": [
    "## Sets\n",
    "\n",
    "* set\n",
    "* frozenset (hashable)"
   ]
  },
  {
   "cell_type": "markdown",
   "metadata": {},
   "source": [
    "## the collections module\n",
    "\n",
    "* namedtuple\n",
    "* deque\n",
    "* ChainMap: dict-like class to create a single view of multiple mappings\n",
    "* Counter\n",
    "* defaultdict\n",
    "* "
   ]
  }
 ],
 "metadata": {
  "kernelspec": {
   "display_name": "Python 3",
   "language": "python",
   "name": "python3"
  },
  "language_info": {
   "codemirror_mode": {
    "name": "ipython",
    "version": 3
   },
   "file_extension": ".py",
   "mimetype": "text/x-python",
   "name": "python",
   "nbconvert_exporter": "python",
   "pygments_lexer": "ipython3",
   "version": "3.6.3"
  }
 },
 "nbformat": 4,
 "nbformat_minor": 2
}
