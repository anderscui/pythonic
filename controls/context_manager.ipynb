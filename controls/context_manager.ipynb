{
 "cells": [
  {
   "cell_type": "markdown",
   "metadata": {},
   "source": [
    "## Context Managers\n",
    "\n",
    "The `try...finally` statement is useful to ensure some cleanup code is run even if an error is raised. There are many use cases for this, such as:\n",
    "\n",
    "* closing a file\n",
    "* releasing a lock\n",
    "* making a temp code patch\n",
    "* running protected code in a special env\n",
    "\n",
    "The `with` statement factors out these use cases by providing a simple way to wrap a block of code.\n",
    "\n",
    "An object that implements the **context manager protocol** can be used as a context manager. This protocol consists of two special methods:\n",
    "\n",
    "* __enter__\n",
    "* __exit__\n"
   ]
  },
  {
   "cell_type": "code",
   "execution_count": 6,
   "metadata": {
    "collapsed": true
   },
   "outputs": [],
   "source": [
    "# as a class\n",
    "class ContextIllustration:\n",
    "    def __enter__(self):\n",
    "        print('entering context')\n",
    "        \n",
    "    def __exit__(self, exc_type, exc_value, traceback):\n",
    "        print('leaving context')\n",
    "        \n",
    "        if exc_type is None:\n",
    "            print('with no error')\n",
    "        else:\n",
    "            print('with an error (%s)' % exc_value)\n",
    "            # prevent the exception being raised\n",
    "            # return True"
   ]
  },
  {
   "cell_type": "code",
   "execution_count": 2,
   "metadata": {},
   "outputs": [
    {
     "name": "stdout",
     "output_type": "stream",
     "text": [
      "entering context\n",
      "inside\n",
      "leaving context\n",
      "with no error\n"
     ]
    }
   ],
   "source": [
    "with ContextIllustration() as ci:\n",
    "    print('inside')"
   ]
  },
  {
   "cell_type": "code",
   "execution_count": 7,
   "metadata": {},
   "outputs": [
    {
     "name": "stdout",
     "output_type": "stream",
     "text": [
      "entering context\n",
      "leaving context\n",
      "with an error (raised within \"with\")\n"
     ]
    },
    {
     "ename": "RuntimeError",
     "evalue": "raised within \"with\"",
     "output_type": "error",
     "traceback": [
      "\u001b[0;31m---------------------------------------------------------------------------\u001b[0m",
      "\u001b[0;31mRuntimeError\u001b[0m                              Traceback (most recent call last)",
      "\u001b[0;32m<ipython-input-7-0d308251f501>\u001b[0m in \u001b[0;36m<module>\u001b[0;34m()\u001b[0m\n\u001b[1;32m      1\u001b[0m \u001b[0;32mwith\u001b[0m \u001b[0mContextIllustration\u001b[0m\u001b[0;34m(\u001b[0m\u001b[0;34m)\u001b[0m \u001b[0;32mas\u001b[0m \u001b[0mci\u001b[0m\u001b[0;34m:\u001b[0m\u001b[0;34m\u001b[0m\u001b[0m\n\u001b[0;32m----> 2\u001b[0;31m     \u001b[0;32mraise\u001b[0m \u001b[0mRuntimeError\u001b[0m\u001b[0;34m(\u001b[0m\u001b[0;34m'raised within \"with\"'\u001b[0m\u001b[0;34m)\u001b[0m\u001b[0;34m\u001b[0m\u001b[0m\n\u001b[0m",
      "\u001b[0;31mRuntimeError\u001b[0m: raised within \"with\""
     ]
    }
   ],
   "source": [
    "with ContextIllustration() as ci:\n",
    "    raise RuntimeError('raised within \"with\"')"
   ]
  },
  {
   "cell_type": "code",
   "execution_count": null,
   "metadata": {
    "collapsed": true
   },
   "outputs": [],
   "source": [
    "# as a function\n",
    "from contextlib import contextmanager\n",
    "\n",
    "\n",
    "@contextmanager\n",
    "def context_illustration():\n",
    "    print('entering context')\n",
    "    try:\n",
    "        yield\n",
    "    except Exception as e:\n",
    "        print('leaving context')\n",
    "        print('with an error (%s)' % e)\n",
    "        raise\n",
    "    else:\n",
    "        print('leaving context')\n",
    "        print('with no error')\n",
    "        \n"
   ]
  }
 ],
 "metadata": {
  "kernelspec": {
   "display_name": "Python 3",
   "language": "python",
   "name": "python3"
  },
  "language_info": {
   "codemirror_mode": {
    "name": "ipython",
    "version": 3
   },
   "file_extension": ".py",
   "mimetype": "text/x-python",
   "name": "python",
   "nbconvert_exporter": "python",
   "pygments_lexer": "ipython3",
   "version": "3.6.3"
  }
 },
 "nbformat": 4,
 "nbformat_minor": 2
}
