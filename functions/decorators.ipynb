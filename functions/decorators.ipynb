{
 "cells": [
  {
   "cell_type": "markdown",
   "metadata": {},
   "source": [
    "## Decorators\n",
    "\n",
    "Decorators were added in py to make func and method wrapping easier to read and understand. The original use case was to be able to define the methods as class methods or static methods.\n",
    "\n",
    "Anything that is **callable** (any object that implements the __call__ method is considered callable), can be used as as decorator.\n",
    "\n",
    "The decorator syntax is simply only a syntactic sugar.\n",
    "\n",
    "```python\n",
    "@some_decorator\n",
    "def decorated_f():\n",
    "    pass\n",
    "    \n",
    "# can be replaced by\n",
    "\n",
    "def decorated_f():\n",
    "    pass\n",
    "    \n",
    "decorated_f = some_decorator(decorated_f)\n",
    "```"
   ]
  },
  {
   "cell_type": "code",
   "execution_count": 1,
   "metadata": {},
   "outputs": [
    {
     "name": "stdout",
     "output_type": "stream",
     "text": [
      "do something before the original func call\n",
      "do something after the original func call\n"
     ]
    },
    {
     "data": {
      "text/plain": [
       "3"
      ]
     },
     "execution_count": 1,
     "metadata": {},
     "output_type": "execute_result"
    }
   ],
   "source": [
    "# as a func\n",
    "def mydecorator(func):\n",
    "    def wrapped(*args, **kwargs):\n",
    "        print('do something before the original func call')\n",
    "        result = func(*args, **kwargs)\n",
    "        print('do something after the original func call')\n",
    "        return result\n",
    "    \n",
    "    return wrapped\n",
    "\n",
    "\n",
    "@mydecorator\n",
    "def add(a, b):\n",
    "    return a + b\n",
    "\n",
    "\n",
    "add(1, 2)"
   ]
  },
  {
   "cell_type": "code",
   "execution_count": 3,
   "metadata": {},
   "outputs": [
    {
     "name": "stdout",
     "output_type": "stream",
     "text": [
      "do something before the original func call\n",
      "do something after the original func call\n"
     ]
    },
    {
     "data": {
      "text/plain": [
       "-1"
      ]
     },
     "execution_count": 3,
     "metadata": {},
     "output_type": "execute_result"
    }
   ],
   "source": [
    "# as a class\n",
    "class MyDecorator:\n",
    "    def __init__(self, func):\n",
    "        self.func = func\n",
    "        \n",
    "    def __call__(self, *args, **kwargs):\n",
    "        print('do something before the original func call')\n",
    "        result = self.func(*args, **kwargs)\n",
    "        print('do something after the original func call')\n",
    "        return result\n",
    "    \n",
    "\n",
    "@MyDecorator\n",
    "def sub(a, b):\n",
    "    return a - b\n",
    "\n",
    "sub(1, 2)"
   ]
  },
  {
   "cell_type": "markdown",
   "metadata": {},
   "source": [
    "### Parameterizing decorators"
   ]
  },
  {
   "cell_type": "code",
   "execution_count": 6,
   "metadata": {},
   "outputs": [
    {
     "name": "stdout",
     "output_type": "stream",
     "text": [
      "foo\n",
      "foo\n"
     ]
    }
   ],
   "source": [
    "def repeat(n=3):\n",
    "    def actual_decorator(func):\n",
    "        def wrapped(*args, **kwargs):\n",
    "            result = None\n",
    "            for _ in range(n):\n",
    "                result = func(*args, **kwargs)\n",
    "            return result\n",
    "        return wrapped\n",
    "    \n",
    "    return actual_decorator\n",
    "\n",
    "\n",
    "@repeat(n=2)\n",
    "def foo():\n",
    "    print('foo')\n",
    "    \n",
    "\n",
    "foo()"
   ]
  },
  {
   "cell_type": "markdown",
   "metadata": {},
   "source": [
    "### Preseving decorators\n",
    "\n",
    "Common pitfalls of using decorators is not preserving function metadata (mostly docstring and original name) when using decorators.\n",
    "\n",
    "A proper solution is to use the `wraps()` decorator."
   ]
  },
  {
   "cell_type": "markdown",
   "metadata": {},
   "source": [
    "## Usages\n",
    "\n",
    "The common patterns for decorators are:\n",
    "\n",
    "* Argument checking\n",
    "* Caching\n",
    "* Proxy\n",
    "* Context provider\n"
   ]
  },
  {
   "cell_type": "code",
   "execution_count": 13,
   "metadata": {
    "collapsed": true
   },
   "outputs": [],
   "source": [
    "# caching\n",
    "\n",
    "import time\n",
    "import hashlib\n",
    "import pickle\n",
    "\n",
    "cache = {}\n",
    "\n",
    "\n",
    "def is_obsolete(entry, duration):\n",
    "    return time.time() - entry['time'] > duration\n",
    "\n",
    "\n",
    "def compute_key(func, args, kwargs):\n",
    "    key = pickle.dumps((func.__name__, args, kwargs))\n",
    "    return hashlib.sha1(key).hexdigest()\n",
    "\n",
    "def memoize(duration=10):\n",
    "    def _memoize(func):\n",
    "        def __memoize(*args, **kwargs):\n",
    "            key = compute_key(func, args, kwargs)\n",
    "            if (key in cache and not is_obsolete(cache[key], duration)):\n",
    "                print('got from caching:)')\n",
    "                return cache[key]['value']\n",
    "            \n",
    "            print('compute value...')\n",
    "            result = func(*args, **kwargs)\n",
    "            cache[key] = {'value': result, 'time': time.time()}\n",
    "            return result\n",
    "        return __memoize\n",
    "    return _memoize"
   ]
  },
  {
   "cell_type": "code",
   "execution_count": 14,
   "metadata": {
    "collapsed": true
   },
   "outputs": [],
   "source": [
    "@memoize(3)\n",
    "def complex_sutff(a, b):\n",
    "    return a + b"
   ]
  },
  {
   "cell_type": "code",
   "execution_count": 22,
   "metadata": {},
   "outputs": [
    {
     "name": "stdout",
     "output_type": "stream",
     "text": [
      "compute value...\n",
      "got from caching:)\n",
      "compute value...\n"
     ]
    },
    {
     "data": {
      "text/plain": [
       "3"
      ]
     },
     "execution_count": 22,
     "metadata": {},
     "output_type": "execute_result"
    }
   ],
   "source": [
    "complex_sutff(1, 2)\n",
    "complex_sutff(1, 2)\n",
    "time.sleep(3.1)\n",
    "complex_sutff(1, 2)"
   ]
  },
  {
   "cell_type": "code",
   "execution_count": 23,
   "metadata": {},
   "outputs": [
    {
     "data": {
      "text/plain": [
       "{'a5e3c203a67a9e2a4ddf12bda34fcc9c934fcb6d': {'value': 3,\n",
       "  'time': 1546708331.893444}}"
      ]
     },
     "execution_count": 23,
     "metadata": {},
     "output_type": "execute_result"
    }
   ],
   "source": [
    "cache"
   ]
  },
  {
   "cell_type": "code",
   "execution_count": null,
   "metadata": {
    "collapsed": true
   },
   "outputs": [],
   "source": []
  }
 ],
 "metadata": {
  "kernelspec": {
   "display_name": "Python 3",
   "language": "python",
   "name": "python3"
  },
  "language_info": {
   "codemirror_mode": {
    "name": "ipython",
    "version": 3
   },
   "file_extension": ".py",
   "mimetype": "text/x-python",
   "name": "python",
   "nbconvert_exporter": "python",
   "pygments_lexer": "ipython3",
   "version": "3.6.3"
  }
 },
 "nbformat": 4,
 "nbformat_minor": 2
}
